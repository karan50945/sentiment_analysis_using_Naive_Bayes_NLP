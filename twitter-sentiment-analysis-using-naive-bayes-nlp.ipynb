{
 "cells": [
  {
   "cell_type": "code",
   "execution_count": 1,
   "id": "3e475ebd",
   "metadata": {
    "_cell_guid": "b1076dfc-b9ad-4769-8c92-a6c4dae69d19",
    "_uuid": "8f2839f25d086af736a60e9eeb907d3b93b6e0e5",
    "execution": {
     "iopub.execute_input": "2022-05-05T11:27:43.531624Z",
     "iopub.status.busy": "2022-05-05T11:27:43.531223Z",
     "iopub.status.idle": "2022-05-05T11:27:43.557011Z",
     "shell.execute_reply": "2022-05-05T11:27:43.554963Z"
    },
    "papermill": {
     "duration": 0.121005,
     "end_time": "2022-05-05T11:27:43.560636",
     "exception": false,
     "start_time": "2022-05-05T11:27:43.439631",
     "status": "completed"
    },
    "tags": []
   },
   "outputs": [
    {
     "name": "stdout",
     "output_type": "stream",
     "text": [
      "/kaggle/input/twitter-sentiment-analysis-hatred-speech/train.csv\n",
      "/kaggle/input/twitter-sentiment-analysis-hatred-speech/test.csv\n"
     ]
    }
   ],
   "source": [
    "# This Python 3 environment comes with many helpful analytics libraries installed\n",
    "# It is defined by the kaggle/python Docker image: https://github.com/kaggle/docker-python\n",
    "# For example, here's several helpful packages to load\n",
    "\n",
    "import numpy as np # linear algebra\n",
    "import pandas as pd # data processing, CSV file I/O (e.g. pd.read_csv)\n",
    "\n",
    "# Input data files are available in the read-only \"../input/\" directory\n",
    "# For example, running this (by clicking run or pressing Shift+Enter) will list all files under the input directory\n",
    "\n",
    "import os\n",
    "for dirname, _, filenames in os.walk('/kaggle/input'):\n",
    "    for filename in filenames:\n",
    "        print(os.path.join(dirname, filename))\n",
    "\n",
    "# You can write up to 20GB to the current directory (/kaggle/working/) that gets preserved as output when you create a version using \"Save & Run All\" \n",
    "# You can also write temporary files to /kaggle/temp/, but they won't be saved outside of the current session"
   ]
  },
  {
   "cell_type": "code",
   "execution_count": 2,
   "id": "ee12a28b",
   "metadata": {
    "execution": {
     "iopub.execute_input": "2022-05-05T11:27:43.721519Z",
     "iopub.status.busy": "2022-05-05T11:27:43.721217Z",
     "iopub.status.idle": "2022-05-05T11:27:45.315051Z",
     "shell.execute_reply": "2022-05-05T11:27:45.313234Z"
    },
    "papermill": {
     "duration": 1.676286,
     "end_time": "2022-05-05T11:27:45.318709",
     "exception": false,
     "start_time": "2022-05-05T11:27:43.642423",
     "status": "completed"
    },
    "tags": []
   },
   "outputs": [],
   "source": [
    "import seaborn as sns #for visualization\n",
    "import matplotlib.pyplot as plt #for visualization\n",
    "#from jupyterthemes import jtplot #for styling matplotlib\n",
    "import numpy as np # linear algebra\n",
    "import pandas as pd # data processing, CSV file I/O (e.g. pd.read_csv)"
   ]
  },
  {
   "cell_type": "code",
   "execution_count": 3,
   "id": "82c88fb0",
   "metadata": {
    "execution": {
     "iopub.execute_input": "2022-05-05T11:27:45.487331Z",
     "iopub.status.busy": "2022-05-05T11:27:45.486753Z",
     "iopub.status.idle": "2022-05-05T11:27:45.692184Z",
     "shell.execute_reply": "2022-05-05T11:27:45.691251Z"
    },
    "papermill": {
     "duration": 0.296745,
     "end_time": "2022-05-05T11:27:45.695343",
     "exception": false,
     "start_time": "2022-05-05T11:27:45.398598",
     "status": "completed"
    },
    "tags": []
   },
   "outputs": [],
   "source": [
    "train_data = pd.read_csv('../input/twitter-sentiment-analysis-hatred-speech/train.csv')\n",
    "test_data = pd.read_csv('../input/twitter-sentiment-analysis-hatred-speech/test.csv')"
   ]
  },
  {
   "cell_type": "code",
   "execution_count": 4,
   "id": "e9e3a143",
   "metadata": {
    "execution": {
     "iopub.execute_input": "2022-05-05T11:27:45.863250Z",
     "iopub.status.busy": "2022-05-05T11:27:45.862713Z",
     "iopub.status.idle": "2022-05-05T11:27:45.867773Z",
     "shell.execute_reply": "2022-05-05T11:27:45.866980Z"
    },
    "papermill": {
     "duration": 0.091987,
     "end_time": "2022-05-05T11:27:45.870752",
     "exception": false,
     "start_time": "2022-05-05T11:27:45.778765",
     "status": "completed"
    },
    "tags": []
   },
   "outputs": [],
   "source": [
    "#jtplot.style(theme = 'monokai', context = 'notebook', grid = False, ticks = False)"
   ]
  },
  {
   "cell_type": "code",
   "execution_count": 5,
   "id": "297c0909",
   "metadata": {
    "execution": {
     "iopub.execute_input": "2022-05-05T11:27:46.040337Z",
     "iopub.status.busy": "2022-05-05T11:27:46.039644Z",
     "iopub.status.idle": "2022-05-05T11:27:46.070769Z",
     "shell.execute_reply": "2022-05-05T11:27:46.069733Z"
    },
    "papermill": {
     "duration": 0.122409,
     "end_time": "2022-05-05T11:27:46.073488",
     "exception": false,
     "start_time": "2022-05-05T11:27:45.951079",
     "status": "completed"
    },
    "tags": []
   },
   "outputs": [
    {
     "data": {
      "text/html": [
       "<div>\n",
       "<style scoped>\n",
       "    .dataframe tbody tr th:only-of-type {\n",
       "        vertical-align: middle;\n",
       "    }\n",
       "\n",
       "    .dataframe tbody tr th {\n",
       "        vertical-align: top;\n",
       "    }\n",
       "\n",
       "    .dataframe thead th {\n",
       "        text-align: right;\n",
       "    }\n",
       "</style>\n",
       "<table border=\"1\" class=\"dataframe\">\n",
       "  <thead>\n",
       "    <tr style=\"text-align: right;\">\n",
       "      <th></th>\n",
       "      <th>id</th>\n",
       "      <th>label</th>\n",
       "      <th>tweet</th>\n",
       "    </tr>\n",
       "  </thead>\n",
       "  <tbody>\n",
       "    <tr>\n",
       "      <th>0</th>\n",
       "      <td>1</td>\n",
       "      <td>0</td>\n",
       "      <td>@user when a father is dysfunctional and is s...</td>\n",
       "    </tr>\n",
       "    <tr>\n",
       "      <th>1</th>\n",
       "      <td>2</td>\n",
       "      <td>0</td>\n",
       "      <td>@user @user thanks for #lyft credit i can't us...</td>\n",
       "    </tr>\n",
       "    <tr>\n",
       "      <th>2</th>\n",
       "      <td>3</td>\n",
       "      <td>0</td>\n",
       "      <td>bihday your majesty</td>\n",
       "    </tr>\n",
       "    <tr>\n",
       "      <th>3</th>\n",
       "      <td>4</td>\n",
       "      <td>0</td>\n",
       "      <td>#model   i love u take with u all the time in ...</td>\n",
       "    </tr>\n",
       "    <tr>\n",
       "      <th>4</th>\n",
       "      <td>5</td>\n",
       "      <td>0</td>\n",
       "      <td>factsguide: society now    #motivation</td>\n",
       "    </tr>\n",
       "    <tr>\n",
       "      <th>...</th>\n",
       "      <td>...</td>\n",
       "      <td>...</td>\n",
       "      <td>...</td>\n",
       "    </tr>\n",
       "    <tr>\n",
       "      <th>31957</th>\n",
       "      <td>31958</td>\n",
       "      <td>0</td>\n",
       "      <td>ate @user isz that youuu?ðððððð...</td>\n",
       "    </tr>\n",
       "    <tr>\n",
       "      <th>31958</th>\n",
       "      <td>31959</td>\n",
       "      <td>0</td>\n",
       "      <td>to see nina turner on the airwaves trying to...</td>\n",
       "    </tr>\n",
       "    <tr>\n",
       "      <th>31959</th>\n",
       "      <td>31960</td>\n",
       "      <td>0</td>\n",
       "      <td>listening to sad songs on a monday morning otw...</td>\n",
       "    </tr>\n",
       "    <tr>\n",
       "      <th>31960</th>\n",
       "      <td>31961</td>\n",
       "      <td>1</td>\n",
       "      <td>@user #sikh #temple vandalised in in #calgary,...</td>\n",
       "    </tr>\n",
       "    <tr>\n",
       "      <th>31961</th>\n",
       "      <td>31962</td>\n",
       "      <td>0</td>\n",
       "      <td>thank you @user for you follow</td>\n",
       "    </tr>\n",
       "  </tbody>\n",
       "</table>\n",
       "<p>31962 rows × 3 columns</p>\n",
       "</div>"
      ],
      "text/plain": [
       "          id  label                                              tweet\n",
       "0          1      0   @user when a father is dysfunctional and is s...\n",
       "1          2      0  @user @user thanks for #lyft credit i can't us...\n",
       "2          3      0                                bihday your majesty\n",
       "3          4      0  #model   i love u take with u all the time in ...\n",
       "4          5      0             factsguide: society now    #motivation\n",
       "...      ...    ...                                                ...\n",
       "31957  31958      0  ate @user isz that youuu?ðððððð...\n",
       "31958  31959      0    to see nina turner on the airwaves trying to...\n",
       "31959  31960      0  listening to sad songs on a monday morning otw...\n",
       "31960  31961      1  @user #sikh #temple vandalised in in #calgary,...\n",
       "31961  31962      0                   thank you @user for you follow  \n",
       "\n",
       "[31962 rows x 3 columns]"
      ]
     },
     "execution_count": 5,
     "metadata": {},
     "output_type": "execute_result"
    }
   ],
   "source": [
    "train_data"
   ]
  },
  {
   "cell_type": "markdown",
   "id": "ea1424f4",
   "metadata": {
    "papermill": {
     "duration": 0.083467,
     "end_time": "2022-05-05T11:27:46.239826",
     "exception": false,
     "start_time": "2022-05-05T11:27:46.156359",
     "status": "completed"
    },
    "tags": []
   },
   "source": [
    "0 label = Positive Tweet\n",
    "\n",
    "1 label = Negative Tweet"
   ]
  },
  {
   "cell_type": "code",
   "execution_count": 6,
   "id": "8c42cfc0",
   "metadata": {
    "execution": {
     "iopub.execute_input": "2022-05-05T11:27:46.405212Z",
     "iopub.status.busy": "2022-05-05T11:27:46.404494Z",
     "iopub.status.idle": "2022-05-05T11:27:46.441453Z",
     "shell.execute_reply": "2022-05-05T11:27:46.440066Z"
    },
    "papermill": {
     "duration": 0.123491,
     "end_time": "2022-05-05T11:27:46.444407",
     "exception": false,
     "start_time": "2022-05-05T11:27:46.320916",
     "status": "completed"
    },
    "tags": []
   },
   "outputs": [
    {
     "name": "stdout",
     "output_type": "stream",
     "text": [
      "<class 'pandas.core.frame.DataFrame'>\n",
      "RangeIndex: 31962 entries, 0 to 31961\n",
      "Data columns (total 3 columns):\n",
      " #   Column  Non-Null Count  Dtype \n",
      "---  ------  --------------  ----- \n",
      " 0   id      31962 non-null  int64 \n",
      " 1   label   31962 non-null  int64 \n",
      " 2   tweet   31962 non-null  object\n",
      "dtypes: int64(2), object(1)\n",
      "memory usage: 749.2+ KB\n"
     ]
    }
   ],
   "source": [
    "train_data.info()"
   ]
  },
  {
   "cell_type": "code",
   "execution_count": 7,
   "id": "8ded359c",
   "metadata": {
    "execution": {
     "iopub.execute_input": "2022-05-05T11:27:46.610819Z",
     "iopub.status.busy": "2022-05-05T11:27:46.609815Z",
     "iopub.status.idle": "2022-05-05T11:27:46.617228Z",
     "shell.execute_reply": "2022-05-05T11:27:46.616418Z"
    },
    "papermill": {
     "duration": 0.096347,
     "end_time": "2022-05-05T11:27:46.621013",
     "exception": false,
     "start_time": "2022-05-05T11:27:46.524666",
     "status": "completed"
    },
    "tags": []
   },
   "outputs": [
    {
     "data": {
      "text/plain": [
       "(31962, 3)"
      ]
     },
     "execution_count": 7,
     "metadata": {},
     "output_type": "execute_result"
    }
   ],
   "source": [
    "train_data.shape"
   ]
  },
  {
   "cell_type": "code",
   "execution_count": 8,
   "id": "89bb9221",
   "metadata": {
    "execution": {
     "iopub.execute_input": "2022-05-05T11:27:46.784652Z",
     "iopub.status.busy": "2022-05-05T11:27:46.783619Z",
     "iopub.status.idle": "2022-05-05T11:27:46.793395Z",
     "shell.execute_reply": "2022-05-05T11:27:46.792587Z"
    },
    "papermill": {
     "duration": 0.091807,
     "end_time": "2022-05-05T11:27:46.795513",
     "exception": false,
     "start_time": "2022-05-05T11:27:46.703706",
     "status": "completed"
    },
    "tags": []
   },
   "outputs": [
    {
     "data": {
      "text/plain": [
       "0         @user when a father is dysfunctional and is s...\n",
       "1        @user @user thanks for #lyft credit i can't us...\n",
       "2                                      bihday your majesty\n",
       "3        #model   i love u take with u all the time in ...\n",
       "4                   factsguide: society now    #motivation\n",
       "                               ...                        \n",
       "31957    ate @user isz that youuu?ðððððð...\n",
       "31958      to see nina turner on the airwaves trying to...\n",
       "31959    listening to sad songs on a monday morning otw...\n",
       "31960    @user #sikh #temple vandalised in in #calgary,...\n",
       "31961                     thank you @user for you follow  \n",
       "Name: tweet, Length: 31962, dtype: object"
      ]
     },
     "execution_count": 8,
     "metadata": {},
     "output_type": "execute_result"
    }
   ],
   "source": [
    "train_data['tweet']"
   ]
  },
  {
   "cell_type": "code",
   "execution_count": 9,
   "id": "c1da1860",
   "metadata": {
    "execution": {
     "iopub.execute_input": "2022-05-05T11:27:46.967798Z",
     "iopub.status.busy": "2022-05-05T11:27:46.967215Z",
     "iopub.status.idle": "2022-05-05T11:27:46.976619Z",
     "shell.execute_reply": "2022-05-05T11:27:46.975673Z"
    },
    "papermill": {
     "duration": 0.099585,
     "end_time": "2022-05-05T11:27:46.979625",
     "exception": false,
     "start_time": "2022-05-05T11:27:46.880040",
     "status": "completed"
    },
    "tags": []
   },
   "outputs": [],
   "source": [
    "train_data = train_data.drop('id', axis = 1)"
   ]
  },
  {
   "cell_type": "code",
   "execution_count": 10,
   "id": "6a63eb8d",
   "metadata": {
    "execution": {
     "iopub.execute_input": "2022-05-05T11:27:47.152144Z",
     "iopub.status.busy": "2022-05-05T11:27:47.150786Z",
     "iopub.status.idle": "2022-05-05T11:27:47.164543Z",
     "shell.execute_reply": "2022-05-05T11:27:47.162752Z"
    },
    "papermill": {
     "duration": 0.100357,
     "end_time": "2022-05-05T11:27:47.167264",
     "exception": false,
     "start_time": "2022-05-05T11:27:47.066907",
     "status": "completed"
    },
    "tags": []
   },
   "outputs": [
    {
     "data": {
      "text/html": [
       "<div>\n",
       "<style scoped>\n",
       "    .dataframe tbody tr th:only-of-type {\n",
       "        vertical-align: middle;\n",
       "    }\n",
       "\n",
       "    .dataframe tbody tr th {\n",
       "        vertical-align: top;\n",
       "    }\n",
       "\n",
       "    .dataframe thead th {\n",
       "        text-align: right;\n",
       "    }\n",
       "</style>\n",
       "<table border=\"1\" class=\"dataframe\">\n",
       "  <thead>\n",
       "    <tr style=\"text-align: right;\">\n",
       "      <th></th>\n",
       "      <th>label</th>\n",
       "      <th>tweet</th>\n",
       "    </tr>\n",
       "  </thead>\n",
       "  <tbody>\n",
       "    <tr>\n",
       "      <th>0</th>\n",
       "      <td>0</td>\n",
       "      <td>@user when a father is dysfunctional and is s...</td>\n",
       "    </tr>\n",
       "    <tr>\n",
       "      <th>1</th>\n",
       "      <td>0</td>\n",
       "      <td>@user @user thanks for #lyft credit i can't us...</td>\n",
       "    </tr>\n",
       "    <tr>\n",
       "      <th>2</th>\n",
       "      <td>0</td>\n",
       "      <td>bihday your majesty</td>\n",
       "    </tr>\n",
       "    <tr>\n",
       "      <th>3</th>\n",
       "      <td>0</td>\n",
       "      <td>#model   i love u take with u all the time in ...</td>\n",
       "    </tr>\n",
       "    <tr>\n",
       "      <th>4</th>\n",
       "      <td>0</td>\n",
       "      <td>factsguide: society now    #motivation</td>\n",
       "    </tr>\n",
       "  </tbody>\n",
       "</table>\n",
       "</div>"
      ],
      "text/plain": [
       "   label                                              tweet\n",
       "0      0   @user when a father is dysfunctional and is s...\n",
       "1      0  @user @user thanks for #lyft credit i can't us...\n",
       "2      0                                bihday your majesty\n",
       "3      0  #model   i love u take with u all the time in ...\n",
       "4      0             factsguide: society now    #motivation"
      ]
     },
     "execution_count": 10,
     "metadata": {},
     "output_type": "execute_result"
    }
   ],
   "source": [
    "train_data.head()"
   ]
  },
  {
   "cell_type": "markdown",
   "id": "432592b2",
   "metadata": {
    "papermill": {
     "duration": 0.079495,
     "end_time": "2022-05-05T11:27:47.335537",
     "exception": false,
     "start_time": "2022-05-05T11:27:47.256042",
     "status": "completed"
    },
    "tags": []
   },
   "source": [
    "Exploring the dataset"
   ]
  },
  {
   "cell_type": "code",
   "execution_count": 11,
   "id": "8dd81f1a",
   "metadata": {
    "execution": {
     "iopub.execute_input": "2022-05-05T11:27:47.499906Z",
     "iopub.status.busy": "2022-05-05T11:27:47.499585Z",
     "iopub.status.idle": "2022-05-05T11:27:47.832732Z",
     "shell.execute_reply": "2022-05-05T11:27:47.831541Z"
    },
    "papermill": {
     "duration": 0.419534,
     "end_time": "2022-05-05T11:27:47.835318",
     "exception": false,
     "start_time": "2022-05-05T11:27:47.415784",
     "status": "completed"
    },
    "tags": []
   },
   "outputs": [
    {
     "data": {
      "image/png": "[encoded data removed]",
      "text/plain": [
       "<Figure size 432x288 with 2 Axes>"
      ]
     },
     "metadata": {
      "needs_background": "light"
     },
     "output_type": "display_data"
    }
   ],
   "source": [
    "sns.heatmap(train_data.isnull(), yticklabels = False)\n",
    "plt.show()"
   ]
  },
  {
   "cell_type": "code",
   "execution_count": 12,
   "id": "5bf3aff8",
   "metadata": {
    "execution": {
     "iopub.execute_input": "2022-05-05T11:27:48.008295Z",
     "iopub.status.busy": "2022-05-05T11:27:48.007692Z",
     "iopub.status.idle": "2022-05-05T11:27:48.195040Z",
     "shell.execute_reply": "2022-05-05T11:27:48.194300Z"
    },
    "papermill": {
     "duration": 0.27811,
     "end_time": "2022-05-05T11:27:48.198493",
     "exception": false,
     "start_time": "2022-05-05T11:27:47.920383",
     "status": "completed"
    },
    "tags": []
   },
   "outputs": [
    {
     "data": {
      "image/png": "[encoded data removed]",
      "text/plain": [
       "<Figure size 432x288 with 1 Axes>"
      ]
     },
     "metadata": {
      "needs_background": "light"
     },
     "output_type": "display_data"
    }
   ],
   "source": [
    "sns.countplot(x = train_data['label'])\n",
    "plt.show()"
   ]
  },
  {
   "cell_type": "code",
   "execution_count": 13,
   "id": "8f8d5aee",
   "metadata": {
    "execution": {
     "iopub.execute_input": "2022-05-05T11:27:48.406231Z",
     "iopub.status.busy": "2022-05-05T11:27:48.405572Z",
     "iopub.status.idle": "2022-05-05T11:27:48.411519Z",
     "shell.execute_reply": "2022-05-05T11:27:48.410525Z"
    },
    "papermill": {
     "duration": 0.103918,
     "end_time": "2022-05-05T11:27:48.414899",
     "exception": false,
     "start_time": "2022-05-05T11:27:48.310981",
     "status": "completed"
    },
    "tags": []
   },
   "outputs": [
    {
     "data": {
      "text/plain": [
       "31962"
      ]
     },
     "execution_count": 13,
     "metadata": {},
     "output_type": "execute_result"
    }
   ],
   "source": [
    "len(train_data)"
   ]
  },
  {
   "cell_type": "code",
   "execution_count": 14,
   "id": "7d0c8211",
   "metadata": {
    "execution": {
     "iopub.execute_input": "2022-05-05T11:27:48.593406Z",
     "iopub.status.busy": "2022-05-05T11:27:48.592849Z",
     "iopub.status.idle": "2022-05-05T11:27:49.755033Z",
     "shell.execute_reply": "2022-05-05T11:27:49.754259Z"
    },
    "papermill": {
     "duration": 1.250743,
     "end_time": "2022-05-05T11:27:49.757455",
     "exception": false,
     "start_time": "2022-05-05T11:27:48.506712",
     "status": "completed"
    },
    "tags": []
   },
   "outputs": [],
   "source": [
    "length = list()\n",
    "for i in range(len(train_data)):\n",
    "    length.append(len(train_data.iloc[i,1]))"
   ]
  },
  {
   "cell_type": "code",
   "execution_count": 15,
   "id": "3966f333",
   "metadata": {
    "execution": {
     "iopub.execute_input": "2022-05-05T11:27:49.926306Z",
     "iopub.status.busy": "2022-05-05T11:27:49.925791Z",
     "iopub.status.idle": "2022-05-05T11:27:49.944329Z",
     "shell.execute_reply": "2022-05-05T11:27:49.943434Z"
    },
    "papermill": {
     "duration": 0.105213,
     "end_time": "2022-05-05T11:27:49.946833",
     "exception": false,
     "start_time": "2022-05-05T11:27:49.841620",
     "status": "completed"
    },
    "tags": []
   },
   "outputs": [],
   "source": [
    "train_data['length'] = length"
   ]
  },
  {
   "cell_type": "code",
   "execution_count": 16,
   "id": "67ebb31d",
   "metadata": {
    "execution": {
     "iopub.execute_input": "2022-05-05T11:27:50.123939Z",
     "iopub.status.busy": "2022-05-05T11:27:50.123422Z",
     "iopub.status.idle": "2022-05-05T11:27:50.134889Z",
     "shell.execute_reply": "2022-05-05T11:27:50.133751Z"
    },
    "papermill": {
     "duration": 0.09997,
     "end_time": "2022-05-05T11:27:50.137418",
     "exception": false,
     "start_time": "2022-05-05T11:27:50.037448",
     "status": "completed"
    },
    "tags": []
   },
   "outputs": [
    {
     "data": {
      "text/html": [
       "<div>\n",
       "<style scoped>\n",
       "    .dataframe tbody tr th:only-of-type {\n",
       "        vertical-align: middle;\n",
       "    }\n",
       "\n",
       "    .dataframe tbody tr th {\n",
       "        vertical-align: top;\n",
       "    }\n",
       "\n",
       "    .dataframe thead th {\n",
       "        text-align: right;\n",
       "    }\n",
       "</style>\n",
       "<table border=\"1\" class=\"dataframe\">\n",
       "  <thead>\n",
       "    <tr style=\"text-align: right;\">\n",
       "      <th></th>\n",
       "      <th>label</th>\n",
       "      <th>tweet</th>\n",
       "      <th>length</th>\n",
       "    </tr>\n",
       "  </thead>\n",
       "  <tbody>\n",
       "    <tr>\n",
       "      <th>0</th>\n",
       "      <td>0</td>\n",
       "      <td>@user when a father is dysfunctional and is s...</td>\n",
       "      <td>102</td>\n",
       "    </tr>\n",
       "    <tr>\n",
       "      <th>1</th>\n",
       "      <td>0</td>\n",
       "      <td>@user @user thanks for #lyft credit i can't us...</td>\n",
       "      <td>122</td>\n",
       "    </tr>\n",
       "    <tr>\n",
       "      <th>2</th>\n",
       "      <td>0</td>\n",
       "      <td>bihday your majesty</td>\n",
       "      <td>21</td>\n",
       "    </tr>\n",
       "    <tr>\n",
       "      <th>3</th>\n",
       "      <td>0</td>\n",
       "      <td>#model   i love u take with u all the time in ...</td>\n",
       "      <td>86</td>\n",
       "    </tr>\n",
       "    <tr>\n",
       "      <th>4</th>\n",
       "      <td>0</td>\n",
       "      <td>factsguide: society now    #motivation</td>\n",
       "      <td>39</td>\n",
       "    </tr>\n",
       "  </tbody>\n",
       "</table>\n",
       "</div>"
      ],
      "text/plain": [
       "   label                                              tweet  length\n",
       "0      0   @user when a father is dysfunctional and is s...     102\n",
       "1      0  @user @user thanks for #lyft credit i can't us...     122\n",
       "2      0                                bihday your majesty      21\n",
       "3      0  #model   i love u take with u all the time in ...      86\n",
       "4      0             factsguide: society now    #motivation      39"
      ]
     },
     "execution_count": 16,
     "metadata": {},
     "output_type": "execute_result"
    }
   ],
   "source": [
    "train_data.head()"
   ]
  },
  {
   "cell_type": "code",
   "execution_count": 17,
   "id": "62a0b067",
   "metadata": {
    "execution": {
     "iopub.execute_input": "2022-05-05T11:27:50.312276Z",
     "iopub.status.busy": "2022-05-05T11:27:50.311633Z",
     "iopub.status.idle": "2022-05-05T11:27:50.697240Z",
     "shell.execute_reply": "2022-05-05T11:27:50.696076Z"
    },
    "papermill": {
     "duration": 0.476864,
     "end_time": "2022-05-05T11:27:50.700083",
     "exception": false,
     "start_time": "2022-05-05T11:27:50.223219",
     "status": "completed"
    },
    "tags": []
   },
   "outputs": [
    {
     "data": {
      "image/png": "[encoded data removed]",
      "text/plain": [
       "<Figure size 432x288 with 1 Axes>"
      ]
     },
     "metadata": {
      "needs_background": "light"
     },
     "output_type": "display_data"
    }
   ],
   "source": [
    "plt.hist(train_data['length'], bins = 100)\n",
    "plt.show()"
   ]
  },
  {
   "cell_type": "code",
   "execution_count": 18,
   "id": "4afb1fbf",
   "metadata": {
    "execution": {
     "iopub.execute_input": "2022-05-05T11:27:50.870839Z",
     "iopub.status.busy": "2022-05-05T11:27:50.870295Z",
     "iopub.status.idle": "2022-05-05T11:27:50.895740Z",
     "shell.execute_reply": "2022-05-05T11:27:50.895032Z"
    },
    "papermill": {
     "duration": 0.112445,
     "end_time": "2022-05-05T11:27:50.897748",
     "exception": false,
     "start_time": "2022-05-05T11:27:50.785303",
     "status": "completed"
    },
    "tags": []
   },
   "outputs": [
    {
     "data": {
      "text/html": [
       "<div>\n",
       "<style scoped>\n",
       "    .dataframe tbody tr th:only-of-type {\n",
       "        vertical-align: middle;\n",
       "    }\n",
       "\n",
       "    .dataframe tbody tr th {\n",
       "        vertical-align: top;\n",
       "    }\n",
       "\n",
       "    .dataframe thead th {\n",
       "        text-align: right;\n",
       "    }\n",
       "</style>\n",
       "<table border=\"1\" class=\"dataframe\">\n",
       "  <thead>\n",
       "    <tr style=\"text-align: right;\">\n",
       "      <th></th>\n",
       "      <th>label</th>\n",
       "      <th>length</th>\n",
       "    </tr>\n",
       "  </thead>\n",
       "  <tbody>\n",
       "    <tr>\n",
       "      <th>count</th>\n",
       "      <td>31962.000000</td>\n",
       "      <td>31962.000000</td>\n",
       "    </tr>\n",
       "    <tr>\n",
       "      <th>mean</th>\n",
       "      <td>0.070146</td>\n",
       "      <td>84.739628</td>\n",
       "    </tr>\n",
       "    <tr>\n",
       "      <th>std</th>\n",
       "      <td>0.255397</td>\n",
       "      <td>29.455749</td>\n",
       "    </tr>\n",
       "    <tr>\n",
       "      <th>min</th>\n",
       "      <td>0.000000</td>\n",
       "      <td>11.000000</td>\n",
       "    </tr>\n",
       "    <tr>\n",
       "      <th>25%</th>\n",
       "      <td>0.000000</td>\n",
       "      <td>63.000000</td>\n",
       "    </tr>\n",
       "    <tr>\n",
       "      <th>50%</th>\n",
       "      <td>0.000000</td>\n",
       "      <td>88.000000</td>\n",
       "    </tr>\n",
       "    <tr>\n",
       "      <th>75%</th>\n",
       "      <td>0.000000</td>\n",
       "      <td>108.000000</td>\n",
       "    </tr>\n",
       "    <tr>\n",
       "      <th>max</th>\n",
       "      <td>1.000000</td>\n",
       "      <td>274.000000</td>\n",
       "    </tr>\n",
       "  </tbody>\n",
       "</table>\n",
       "</div>"
      ],
      "text/plain": [
       "              label        length\n",
       "count  31962.000000  31962.000000\n",
       "mean       0.070146     84.739628\n",
       "std        0.255397     29.455749\n",
       "min        0.000000     11.000000\n",
       "25%        0.000000     63.000000\n",
       "50%        0.000000     88.000000\n",
       "75%        0.000000    108.000000\n",
       "max        1.000000    274.000000"
      ]
     },
     "execution_count": 18,
     "metadata": {},
     "output_type": "execute_result"
    }
   ],
   "source": [
    "train_data.describe()"
   ]
  },
  {
   "cell_type": "markdown",
   "id": "aefb5017",
   "metadata": {
    "papermill": {
     "duration": 0.08372,
     "end_time": "2022-05-05T11:27:51.066313",
     "exception": false,
     "start_time": "2022-05-05T11:27:50.982593",
     "status": "completed"
    },
    "tags": []
   },
   "source": [
    "Shortest Tweet -"
   ]
  },
  {
   "cell_type": "code",
   "execution_count": 19,
   "id": "48957a3b",
   "metadata": {
    "execution": {
     "iopub.execute_input": "2022-05-05T11:27:51.244303Z",
     "iopub.status.busy": "2022-05-05T11:27:51.243782Z",
     "iopub.status.idle": "2022-05-05T11:27:51.255710Z",
     "shell.execute_reply": "2022-05-05T11:27:51.255026Z"
    },
    "papermill": {
     "duration": 0.103638,
     "end_time": "2022-05-05T11:27:51.258320",
     "exception": false,
     "start_time": "2022-05-05T11:27:51.154682",
     "status": "completed"
    },
    "tags": []
   },
   "outputs": [
    {
     "data": {
      "text/plain": [
       "'i love you '"
      ]
     },
     "execution_count": 19,
     "metadata": {},
     "output_type": "execute_result"
    }
   ],
   "source": [
    "train_data[train_data['length'] == min(train_data['length'])]['tweet'].iloc[0]"
   ]
  },
  {
   "cell_type": "markdown",
   "id": "d385c4fc",
   "metadata": {
    "papermill": {
     "duration": 0.08467,
     "end_time": "2022-05-05T11:27:51.428889",
     "exception": false,
     "start_time": "2022-05-05T11:27:51.344219",
     "status": "completed"
    },
    "tags": []
   },
   "source": [
    "Longest Tweet - "
   ]
  },
  {
   "cell_type": "code",
   "execution_count": 20,
   "id": "f70f984b",
   "metadata": {
    "execution": {
     "iopub.execute_input": "2022-05-05T11:27:51.600941Z",
     "iopub.status.busy": "2022-05-05T11:27:51.600418Z",
     "iopub.status.idle": "2022-05-05T11:27:51.613242Z",
     "shell.execute_reply": "2022-05-05T11:27:51.612326Z"
    },
    "papermill": {
     "duration": 0.101865,
     "end_time": "2022-05-05T11:27:51.615511",
     "exception": false,
     "start_time": "2022-05-05T11:27:51.513646",
     "status": "completed"
    },
    "tags": []
   },
   "outputs": [
    {
     "data": {
      "text/plain": [
       "' @user lmfao pathetic #soit   #growup #funny #noonethere #iknowwhoitis ð\\x9f\\x98\\x82ð\\x9f\\x98\\x82ð\\x9f\\x98\\x82ð\\x9f\\x98\\x82ð\\x9f\\x98\\x82ð\\x9f\\x98\\x82ð\\x9f\\x98\\x82ð\\x9f\\x98\\x82ð\\x9f\\x98\\x82ð\\x9f\\x98\\x82ð\\x9f\\x98\\x82ð\\x9f¤\\x97ð\\x9f¤\\x97ð\\x9f¤\\x97ð\\x9f¤\\x97ð\\x9f¤\\x97ð\\x9f¤\\x97ð\\x9f¤\\x97ð\\x9f¤\\x97ð\\x9f¤\\x97ð\\x9f¤\\x97ð\\x9f¤\\x97ð\\x9f¤\\x97ð\\x9f\\x98±ð\\x9f\\x98±ð\\x9f¤\\x97ð\\x9f¤\\x97ð\\x9f\\x98±ð\\x9f¤\\x97ð\\x9f¤\\x97ð\\x9f¤\\x97ð\\x9f¤\\x97ð\\x9f¤\\x97ð\\x9f¤\\x97ð\\x9f¤\\x97ð\\x9f¤\\x97ð\\x9f¤\\x97ð\\x9f¤\\x97ð\\x9f¤\\x97ð\\x9f¤\\x97ð\\x9f¤\\x97ð\\x9f¤\\x97ð\\x9f¤\\x97ð\\x9f\\x98\\x82ð\\x9f\\x98\\x82ð\\x9f\\x98\\x82ð\\x9f\\x98\\x82ð\\x9f\\x98\\x82ð\\x9f\\x98\\x82ð\\x9f\\x98\\x82â\\x80¦'"
      ]
     },
     "execution_count": 20,
     "metadata": {},
     "output_type": "execute_result"
    }
   ],
   "source": [
    "train_data[train_data['length'] == max(train_data['length'])]['tweet'].iloc[0]"
   ]
  },
  {
   "cell_type": "markdown",
   "id": "bc7824f9",
   "metadata": {
    "papermill": {
     "duration": 0.086894,
     "end_time": "2022-05-05T11:27:51.789926",
     "exception": false,
     "start_time": "2022-05-05T11:27:51.703032",
     "status": "completed"
    },
    "tags": []
   },
   "source": [
    "Average Length Tweet - "
   ]
  },
  {
   "cell_type": "code",
   "execution_count": 21,
   "id": "516f1b0a",
   "metadata": {
    "execution": {
     "iopub.execute_input": "2022-05-05T11:27:51.968317Z",
     "iopub.status.busy": "2022-05-05T11:27:51.967950Z",
     "iopub.status.idle": "2022-05-05T11:27:51.975841Z",
     "shell.execute_reply": "2022-05-05T11:27:51.974756Z"
    },
    "papermill": {
     "duration": 0.099387,
     "end_time": "2022-05-05T11:27:51.978268",
     "exception": false,
     "start_time": "2022-05-05T11:27:51.878881",
     "status": "completed"
    },
    "tags": []
   },
   "outputs": [
    {
     "data": {
      "text/plain": [
       "'my mom shares the same bihday as @user   bihday snake! see you this weekend ð\\x9f\\x99\\x8cð\\x9f\\x8f¼'"
      ]
     },
     "execution_count": 21,
     "metadata": {},
     "output_type": "execute_result"
    }
   ],
   "source": [
    "train_data[train_data['length'] == 84]['tweet'].iloc[0]"
   ]
  },
  {
   "cell_type": "code",
   "execution_count": 22,
   "id": "187ae790",
   "metadata": {
    "execution": {
     "iopub.execute_input": "2022-05-05T11:27:52.162375Z",
     "iopub.status.busy": "2022-05-05T11:27:52.161951Z",
     "iopub.status.idle": "2022-05-05T11:27:52.169783Z",
     "shell.execute_reply": "2022-05-05T11:27:52.168987Z"
    },
    "papermill": {
     "duration": 0.100739,
     "end_time": "2022-05-05T11:27:52.172143",
     "exception": false,
     "start_time": "2022-05-05T11:27:52.071404",
     "status": "completed"
    },
    "tags": []
   },
   "outputs": [],
   "source": [
    "positive = train_data[train_data['label'] == 0]"
   ]
  },
  {
   "cell_type": "code",
   "execution_count": 23,
   "id": "5b5f06c1",
   "metadata": {
    "execution": {
     "iopub.execute_input": "2022-05-05T11:27:52.345075Z",
     "iopub.status.busy": "2022-05-05T11:27:52.344569Z",
     "iopub.status.idle": "2022-05-05T11:27:52.366943Z",
     "shell.execute_reply": "2022-05-05T11:27:52.365738Z"
    },
    "papermill": {
     "duration": 0.110106,
     "end_time": "2022-05-05T11:27:52.369554",
     "exception": false,
     "start_time": "2022-05-05T11:27:52.259448",
     "status": "completed"
    },
    "tags": []
   },
   "outputs": [
    {
     "data": {
      "text/html": [
       "<div>\n",
       "<style scoped>\n",
       "    .dataframe tbody tr th:only-of-type {\n",
       "        vertical-align: middle;\n",
       "    }\n",
       "\n",
       "    .dataframe tbody tr th {\n",
       "        vertical-align: top;\n",
       "    }\n",
       "\n",
       "    .dataframe thead th {\n",
       "        text-align: right;\n",
       "    }\n",
       "</style>\n",
       "<table border=\"1\" class=\"dataframe\">\n",
       "  <thead>\n",
       "    <tr style=\"text-align: right;\">\n",
       "      <th></th>\n",
       "      <th>label</th>\n",
       "      <th>length</th>\n",
       "    </tr>\n",
       "  </thead>\n",
       "  <tbody>\n",
       "    <tr>\n",
       "      <th>count</th>\n",
       "      <td>29720.0</td>\n",
       "      <td>29720.000000</td>\n",
       "    </tr>\n",
       "    <tr>\n",
       "      <th>mean</th>\n",
       "      <td>0.0</td>\n",
       "      <td>84.328634</td>\n",
       "    </tr>\n",
       "    <tr>\n",
       "      <th>std</th>\n",
       "      <td>0.0</td>\n",
       "      <td>29.566484</td>\n",
       "    </tr>\n",
       "    <tr>\n",
       "      <th>min</th>\n",
       "      <td>0.0</td>\n",
       "      <td>11.000000</td>\n",
       "    </tr>\n",
       "    <tr>\n",
       "      <th>25%</th>\n",
       "      <td>0.0</td>\n",
       "      <td>62.000000</td>\n",
       "    </tr>\n",
       "    <tr>\n",
       "      <th>50%</th>\n",
       "      <td>0.0</td>\n",
       "      <td>88.000000</td>\n",
       "    </tr>\n",
       "    <tr>\n",
       "      <th>75%</th>\n",
       "      <td>0.0</td>\n",
       "      <td>107.000000</td>\n",
       "    </tr>\n",
       "    <tr>\n",
       "      <th>max</th>\n",
       "      <td>0.0</td>\n",
       "      <td>274.000000</td>\n",
       "    </tr>\n",
       "  </tbody>\n",
       "</table>\n",
       "</div>"
      ],
      "text/plain": [
       "         label        length\n",
       "count  29720.0  29720.000000\n",
       "mean       0.0     84.328634\n",
       "std        0.0     29.566484\n",
       "min        0.0     11.000000\n",
       "25%        0.0     62.000000\n",
       "50%        0.0     88.000000\n",
       "75%        0.0    107.000000\n",
       "max        0.0    274.000000"
      ]
     },
     "execution_count": 23,
     "metadata": {},
     "output_type": "execute_result"
    }
   ],
   "source": [
    "positive.describe()"
   ]
  },
  {
   "cell_type": "code",
   "execution_count": 24,
   "id": "c8a4972c",
   "metadata": {
    "execution": {
     "iopub.execute_input": "2022-05-05T11:27:52.551905Z",
     "iopub.status.busy": "2022-05-05T11:27:52.551396Z",
     "iopub.status.idle": "2022-05-05T11:27:52.557007Z",
     "shell.execute_reply": "2022-05-05T11:27:52.556199Z"
    },
    "papermill": {
     "duration": 0.10013,
     "end_time": "2022-05-05T11:27:52.559745",
     "exception": false,
     "start_time": "2022-05-05T11:27:52.459615",
     "status": "completed"
    },
    "tags": []
   },
   "outputs": [],
   "source": [
    "negative = train_data[train_data['label'] == 1]"
   ]
  },
  {
   "cell_type": "code",
   "execution_count": 25,
   "id": "3b11a803",
   "metadata": {
    "execution": {
     "iopub.execute_input": "2022-05-05T11:27:52.734885Z",
     "iopub.status.busy": "2022-05-05T11:27:52.734258Z",
     "iopub.status.idle": "2022-05-05T11:27:52.748853Z",
     "shell.execute_reply": "2022-05-05T11:27:52.747518Z"
    },
    "papermill": {
     "duration": 0.105967,
     "end_time": "2022-05-05T11:27:52.751525",
     "exception": false,
     "start_time": "2022-05-05T11:27:52.645558",
     "status": "completed"
    },
    "tags": []
   },
   "outputs": [
    {
     "data": {
      "text/html": [
       "<div>\n",
       "<style scoped>\n",
       "    .dataframe tbody tr th:only-of-type {\n",
       "        vertical-align: middle;\n",
       "    }\n",
       "\n",
       "    .dataframe tbody tr th {\n",
       "        vertical-align: top;\n",
       "    }\n",
       "\n",
       "    .dataframe thead th {\n",
       "        text-align: right;\n",
       "    }\n",
       "</style>\n",
       "<table border=\"1\" class=\"dataframe\">\n",
       "  <thead>\n",
       "    <tr style=\"text-align: right;\">\n",
       "      <th></th>\n",
       "      <th>label</th>\n",
       "      <th>tweet</th>\n",
       "      <th>length</th>\n",
       "    </tr>\n",
       "  </thead>\n",
       "  <tbody>\n",
       "    <tr>\n",
       "      <th>13</th>\n",
       "      <td>1</td>\n",
       "      <td>@user #cnn calls #michigan middle school 'buil...</td>\n",
       "      <td>74</td>\n",
       "    </tr>\n",
       "    <tr>\n",
       "      <th>14</th>\n",
       "      <td>1</td>\n",
       "      <td>no comment!  in #australia   #opkillingbay #se...</td>\n",
       "      <td>101</td>\n",
       "    </tr>\n",
       "    <tr>\n",
       "      <th>17</th>\n",
       "      <td>1</td>\n",
       "      <td>retweet if you agree!</td>\n",
       "      <td>22</td>\n",
       "    </tr>\n",
       "    <tr>\n",
       "      <th>23</th>\n",
       "      <td>1</td>\n",
       "      <td>@user @user lumpy says i am a . prove it lumpy.</td>\n",
       "      <td>47</td>\n",
       "    </tr>\n",
       "    <tr>\n",
       "      <th>34</th>\n",
       "      <td>1</td>\n",
       "      <td>it's unbelievable that in the 21st century we'...</td>\n",
       "      <td>104</td>\n",
       "    </tr>\n",
       "    <tr>\n",
       "      <th>...</th>\n",
       "      <td>...</td>\n",
       "      <td>...</td>\n",
       "      <td>...</td>\n",
       "    </tr>\n",
       "    <tr>\n",
       "      <th>31934</th>\n",
       "      <td>1</td>\n",
       "      <td>lady banned from kentucky mall. @user  #jcpenn...</td>\n",
       "      <td>59</td>\n",
       "    </tr>\n",
       "    <tr>\n",
       "      <th>31946</th>\n",
       "      <td>1</td>\n",
       "      <td>@user omfg i'm offended! i'm a  mailbox and i'...</td>\n",
       "      <td>82</td>\n",
       "    </tr>\n",
       "    <tr>\n",
       "      <th>31947</th>\n",
       "      <td>1</td>\n",
       "      <td>@user @user you don't have the balls to hashta...</td>\n",
       "      <td>112</td>\n",
       "    </tr>\n",
       "    <tr>\n",
       "      <th>31948</th>\n",
       "      <td>1</td>\n",
       "      <td>makes you ask yourself, who am i? then am i a...</td>\n",
       "      <td>87</td>\n",
       "    </tr>\n",
       "    <tr>\n",
       "      <th>31960</th>\n",
       "      <td>1</td>\n",
       "      <td>@user #sikh #temple vandalised in in #calgary,...</td>\n",
       "      <td>67</td>\n",
       "    </tr>\n",
       "  </tbody>\n",
       "</table>\n",
       "<p>2242 rows × 3 columns</p>\n",
       "</div>"
      ],
      "text/plain": [
       "       label                                              tweet  length\n",
       "13         1  @user #cnn calls #michigan middle school 'buil...      74\n",
       "14         1  no comment!  in #australia   #opkillingbay #se...     101\n",
       "17         1                             retweet if you agree!       22\n",
       "23         1    @user @user lumpy says i am a . prove it lumpy.      47\n",
       "34         1  it's unbelievable that in the 21st century we'...     104\n",
       "...      ...                                                ...     ...\n",
       "31934      1  lady banned from kentucky mall. @user  #jcpenn...      59\n",
       "31946      1  @user omfg i'm offended! i'm a  mailbox and i'...      82\n",
       "31947      1  @user @user you don't have the balls to hashta...     112\n",
       "31948      1   makes you ask yourself, who am i? then am i a...      87\n",
       "31960      1  @user #sikh #temple vandalised in in #calgary,...      67\n",
       "\n",
       "[2242 rows x 3 columns]"
      ]
     },
     "execution_count": 25,
     "metadata": {},
     "output_type": "execute_result"
    }
   ],
   "source": [
    "negative"
   ]
  },
  {
   "cell_type": "code",
   "execution_count": 26,
   "id": "08fe2d6f",
   "metadata": {
    "execution": {
     "iopub.execute_input": "2022-05-05T11:27:52.934503Z",
     "iopub.status.busy": "2022-05-05T11:27:52.934164Z",
     "iopub.status.idle": "2022-05-05T11:27:52.956280Z",
     "shell.execute_reply": "2022-05-05T11:27:52.955221Z"
    },
    "papermill": {
     "duration": 0.117689,
     "end_time": "2022-05-05T11:27:52.958943",
     "exception": false,
     "start_time": "2022-05-05T11:27:52.841254",
     "status": "completed"
    },
    "tags": []
   },
   "outputs": [
    {
     "data": {
      "text/html": [
       "<div>\n",
       "<style scoped>\n",
       "    .dataframe tbody tr th:only-of-type {\n",
       "        vertical-align: middle;\n",
       "    }\n",
       "\n",
       "    .dataframe tbody tr th {\n",
       "        vertical-align: top;\n",
       "    }\n",
       "\n",
       "    .dataframe thead th {\n",
       "        text-align: right;\n",
       "    }\n",
       "</style>\n",
       "<table border=\"1\" class=\"dataframe\">\n",
       "  <thead>\n",
       "    <tr style=\"text-align: right;\">\n",
       "      <th></th>\n",
       "      <th>label</th>\n",
       "      <th>length</th>\n",
       "    </tr>\n",
       "  </thead>\n",
       "  <tbody>\n",
       "    <tr>\n",
       "      <th>count</th>\n",
       "      <td>2242.0</td>\n",
       "      <td>2242.000000</td>\n",
       "    </tr>\n",
       "    <tr>\n",
       "      <th>mean</th>\n",
       "      <td>1.0</td>\n",
       "      <td>90.187779</td>\n",
       "    </tr>\n",
       "    <tr>\n",
       "      <th>std</th>\n",
       "      <td>0.0</td>\n",
       "      <td>27.375502</td>\n",
       "    </tr>\n",
       "    <tr>\n",
       "      <th>min</th>\n",
       "      <td>1.0</td>\n",
       "      <td>12.000000</td>\n",
       "    </tr>\n",
       "    <tr>\n",
       "      <th>25%</th>\n",
       "      <td>1.0</td>\n",
       "      <td>69.000000</td>\n",
       "    </tr>\n",
       "    <tr>\n",
       "      <th>50%</th>\n",
       "      <td>1.0</td>\n",
       "      <td>96.000000</td>\n",
       "    </tr>\n",
       "    <tr>\n",
       "      <th>75%</th>\n",
       "      <td>1.0</td>\n",
       "      <td>111.000000</td>\n",
       "    </tr>\n",
       "    <tr>\n",
       "      <th>max</th>\n",
       "      <td>1.0</td>\n",
       "      <td>152.000000</td>\n",
       "    </tr>\n",
       "  </tbody>\n",
       "</table>\n",
       "</div>"
      ],
      "text/plain": [
       "        label       length\n",
       "count  2242.0  2242.000000\n",
       "mean      1.0    90.187779\n",
       "std       0.0    27.375502\n",
       "min       1.0    12.000000\n",
       "25%       1.0    69.000000\n",
       "50%       1.0    96.000000\n",
       "75%       1.0   111.000000\n",
       "max       1.0   152.000000"
      ]
     },
     "execution_count": 26,
     "metadata": {},
     "output_type": "execute_result"
    }
   ],
   "source": [
    "negative.describe()"
   ]
  },
  {
   "cell_type": "code",
   "execution_count": 27,
   "id": "0011cb21",
   "metadata": {
    "execution": {
     "iopub.execute_input": "2022-05-05T11:27:53.148076Z",
     "iopub.status.busy": "2022-05-05T11:27:53.147715Z",
     "iopub.status.idle": "2022-05-05T11:27:53.211616Z",
     "shell.execute_reply": "2022-05-05T11:27:53.210225Z"
    },
    "papermill": {
     "duration": 0.162557,
     "end_time": "2022-05-05T11:27:53.214421",
     "exception": false,
     "start_time": "2022-05-05T11:27:53.051864",
     "status": "completed"
    },
    "tags": []
   },
   "outputs": [],
   "source": [
    "from wordcloud import WordCloud"
   ]
  },
  {
   "cell_type": "code",
   "execution_count": 28,
   "id": "4c45210d",
   "metadata": {
    "execution": {
     "iopub.execute_input": "2022-05-05T11:27:53.395239Z",
     "iopub.status.busy": "2022-05-05T11:27:53.394462Z",
     "iopub.status.idle": "2022-05-05T11:27:53.400470Z",
     "shell.execute_reply": "2022-05-05T11:27:53.399678Z"
    },
    "papermill": {
     "duration": 0.099165,
     "end_time": "2022-05-05T11:27:53.402875",
     "exception": false,
     "start_time": "2022-05-05T11:27:53.303710",
     "status": "completed"
    },
    "tags": []
   },
   "outputs": [],
   "source": [
    "sentences = train_data['tweet'].tolist()"
   ]
  },
  {
   "cell_type": "code",
   "execution_count": 29,
   "id": "942a6914",
   "metadata": {
    "execution": {
     "iopub.execute_input": "2022-05-05T11:27:53.587382Z",
     "iopub.status.busy": "2022-05-05T11:27:53.586986Z",
     "iopub.status.idle": "2022-05-05T11:27:53.597581Z",
     "shell.execute_reply": "2022-05-05T11:27:53.595606Z"
    },
    "papermill": {
     "duration": 0.104648,
     "end_time": "2022-05-05T11:27:53.600660",
     "exception": false,
     "start_time": "2022-05-05T11:27:53.496012",
     "status": "completed"
    },
    "tags": []
   },
   "outputs": [],
   "source": [
    "combined_sentences = \" \".join(sentences)"
   ]
  },
  {
   "cell_type": "code",
   "execution_count": 30,
   "id": "2a2f8cdc",
   "metadata": {
    "execution": {
     "iopub.execute_input": "2022-05-05T11:27:53.788185Z",
     "iopub.status.busy": "2022-05-05T11:27:53.787090Z",
     "iopub.status.idle": "2022-05-05T11:27:57.607135Z",
     "shell.execute_reply": "2022-05-05T11:27:57.605900Z"
    },
    "papermill": {
     "duration": 3.921241,
     "end_time": "2022-05-05T11:27:57.612427",
     "exception": false,
     "start_time": "2022-05-05T11:27:53.691186",
     "status": "completed"
    },
    "tags": []
   },
   "outputs": [
    {
     "data": {
      "image/png": "[encoded data removed]",
      "text/plain": [
       "<Figure size 432x288 with 1 Axes>"
      ]
     },
     "metadata": {
      "needs_background": "light"
     },
     "output_type": "display_data"
    }
   ],
   "source": [
    "plt.imshow(WordCloud().generate(combined_sentences))\n",
    "plt.show()"
   ]
  },
  {
   "cell_type": "code",
   "execution_count": 31,
   "id": "047208d0",
   "metadata": {
    "execution": {
     "iopub.execute_input": "2022-05-05T11:27:57.819694Z",
     "iopub.status.busy": "2022-05-05T11:27:57.819024Z",
     "iopub.status.idle": "2022-05-05T11:27:57.824649Z",
     "shell.execute_reply": "2022-05-05T11:27:57.823502Z"
    },
    "papermill": {
     "duration": 0.10733,
     "end_time": "2022-05-05T11:27:57.826670",
     "exception": false,
     "start_time": "2022-05-05T11:27:57.719340",
     "status": "completed"
    },
    "tags": []
   },
   "outputs": [],
   "source": [
    "negative_sentences = negative['tweet'].tolist()"
   ]
  },
  {
   "cell_type": "code",
   "execution_count": 32,
   "id": "0f245b0c",
   "metadata": {
    "execution": {
     "iopub.execute_input": "2022-05-05T11:27:58.018570Z",
     "iopub.status.busy": "2022-05-05T11:27:58.016386Z",
     "iopub.status.idle": "2022-05-05T11:27:58.023505Z",
     "shell.execute_reply": "2022-05-05T11:27:58.022296Z"
    },
    "papermill": {
     "duration": 0.106134,
     "end_time": "2022-05-05T11:27:58.026345",
     "exception": false,
     "start_time": "2022-05-05T11:27:57.920211",
     "status": "completed"
    },
    "tags": []
   },
   "outputs": [],
   "source": [
    "combined_negative_sentences = \" \".join(negative_sentences)"
   ]
  },
  {
   "cell_type": "code",
   "execution_count": 33,
   "id": "bbef4ee6",
   "metadata": {
    "execution": {
     "iopub.execute_input": "2022-05-05T11:27:58.222967Z",
     "iopub.status.busy": "2022-05-05T11:27:58.222320Z",
     "iopub.status.idle": "2022-05-05T11:27:58.902088Z",
     "shell.execute_reply": "2022-05-05T11:27:58.901238Z"
    },
    "papermill": {
     "duration": 0.783377,
     "end_time": "2022-05-05T11:27:58.905070",
     "exception": false,
     "start_time": "2022-05-05T11:27:58.121693",
     "status": "completed"
    },
    "tags": []
   },
   "outputs": [
    {
     "data": {
      "image/png": "[encoded data removed]",
      "text/plain": [
       "<Figure size 432x288 with 1 Axes>"
      ]
     },
     "metadata": {
      "needs_background": "light"
     },
     "output_type": "display_data"
    }
   ],
   "source": [
    "plt.imshow(WordCloud().generate(combined_negative_sentences))\n",
    "plt.show()"
   ]
  },
  {
   "cell_type": "markdown",
   "id": "57d61c0d",
   "metadata": {
    "papermill": {
     "duration": 0.097002,
     "end_time": "2022-05-05T11:27:59.097752",
     "exception": false,
     "start_time": "2022-05-05T11:27:59.000750",
     "status": "completed"
    },
    "tags": []
   },
   "source": [
    "Cleaning the data"
   ]
  },
  {
   "cell_type": "code",
   "execution_count": 34,
   "id": "958dca55",
   "metadata": {
    "execution": {
     "iopub.execute_input": "2022-05-05T11:27:59.320128Z",
     "iopub.status.busy": "2022-05-05T11:27:59.319489Z",
     "iopub.status.idle": "2022-05-05T11:27:59.326142Z",
     "shell.execute_reply": "2022-05-05T11:27:59.325175Z"
    },
    "papermill": {
     "duration": 0.135483,
     "end_time": "2022-05-05T11:27:59.329371",
     "exception": false,
     "start_time": "2022-05-05T11:27:59.193888",
     "status": "completed"
    },
    "tags": []
   },
   "outputs": [
    {
     "data": {
      "text/plain": [
       "'!\"#$%&\\'()*+,-./:;<=>?@[\\\\]^_`{|}~'"
      ]
     },
     "execution_count": 34,
     "metadata": {},
     "output_type": "execute_result"
    }
   ],
   "source": [
    "import string\n",
    "string.punctuation"
   ]
  },
  {
   "cell_type": "code",
   "execution_count": 35,
   "id": "bb2d64a5",
   "metadata": {
    "execution": {
     "iopub.execute_input": "2022-05-05T11:27:59.534530Z",
     "iopub.status.busy": "2022-05-05T11:27:59.534124Z",
     "iopub.status.idle": "2022-05-05T11:28:00.965288Z",
     "shell.execute_reply": "2022-05-05T11:28:00.963625Z"
    },
    "papermill": {
     "duration": 1.533743,
     "end_time": "2022-05-05T11:28:00.968011",
     "exception": false,
     "start_time": "2022-05-05T11:27:59.434268",
     "status": "completed"
    },
    "tags": []
   },
   "outputs": [],
   "source": [
    "import nltk"
   ]
  },
  {
   "cell_type": "code",
   "execution_count": 36,
   "id": "e5842fb8",
   "metadata": {
    "execution": {
     "iopub.execute_input": "2022-05-05T11:28:01.175991Z",
     "iopub.status.busy": "2022-05-05T11:28:01.175665Z",
     "iopub.status.idle": "2022-05-05T11:28:01.347289Z",
     "shell.execute_reply": "2022-05-05T11:28:01.345287Z"
    },
    "papermill": {
     "duration": 0.277688,
     "end_time": "2022-05-05T11:28:01.351316",
     "exception": false,
     "start_time": "2022-05-05T11:28:01.073628",
     "status": "completed"
    },
    "tags": []
   },
   "outputs": [
    {
     "name": "stdout",
     "output_type": "stream",
     "text": [
      "[nltk_data] Downloading package stopwords to /usr/share/nltk_data...\n",
      "[nltk_data]   Package stopwords is already up-to-date!\n"
     ]
    },
    {
     "data": {
      "text/plain": [
       "True"
      ]
     },
     "execution_count": 36,
     "metadata": {},
     "output_type": "execute_result"
    }
   ],
   "source": [
    "nltk.download('stopwords')"
   ]
  },
  {
   "cell_type": "code",
   "execution_count": 37,
   "id": "21ed85e3",
   "metadata": {
    "execution": {
     "iopub.execute_input": "2022-05-05T11:28:01.555019Z",
     "iopub.status.busy": "2022-05-05T11:28:01.553738Z",
     "iopub.status.idle": "2022-05-05T11:28:01.560213Z",
     "shell.execute_reply": "2022-05-05T11:28:01.559186Z"
    },
    "papermill": {
     "duration": 0.110827,
     "end_time": "2022-05-05T11:28:01.562707",
     "exception": false,
     "start_time": "2022-05-05T11:28:01.451880",
     "status": "completed"
    },
    "tags": []
   },
   "outputs": [],
   "source": [
    "from nltk.corpus import stopwords"
   ]
  },
  {
   "cell_type": "code",
   "execution_count": 38,
   "id": "801ec60c",
   "metadata": {
    "execution": {
     "iopub.execute_input": "2022-05-05T11:28:01.770192Z",
     "iopub.status.busy": "2022-05-05T11:28:01.769590Z",
     "iopub.status.idle": "2022-05-05T11:28:01.777030Z",
     "shell.execute_reply": "2022-05-05T11:28:01.776227Z"
    },
    "papermill": {
     "duration": 0.114748,
     "end_time": "2022-05-05T11:28:01.780059",
     "exception": false,
     "start_time": "2022-05-05T11:28:01.665311",
     "status": "completed"
    },
    "tags": []
   },
   "outputs": [],
   "source": [
    "st = stopwords.words('english')\n",
    "st.append(\"and\")"
   ]
  },
  {
   "cell_type": "code",
   "execution_count": 39,
   "id": "b4d932ea",
   "metadata": {
    "execution": {
     "iopub.execute_input": "2022-05-05T11:28:01.986898Z",
     "iopub.status.busy": "2022-05-05T11:28:01.986369Z",
     "iopub.status.idle": "2022-05-05T11:28:01.991764Z",
     "shell.execute_reply": "2022-05-05T11:28:01.990662Z"
    },
    "papermill": {
     "duration": 0.112105,
     "end_time": "2022-05-05T11:28:01.994405",
     "exception": false,
     "start_time": "2022-05-05T11:28:01.882300",
     "status": "completed"
    },
    "tags": []
   },
   "outputs": [],
   "source": [
    "Test = \"Goblin and Ninja FoR the win!!\"\n",
    "test_punc_removed = []\n",
    "for char in Test:\n",
    "    if char not in string.punctuation:\n",
    "        test_punc_removed.append(char)\n",
    "test_punc_removed = ''.join(test_punc_removed)        "
   ]
  },
  {
   "cell_type": "code",
   "execution_count": 40,
   "id": "535caae9",
   "metadata": {
    "execution": {
     "iopub.execute_input": "2022-05-05T11:28:02.200044Z",
     "iopub.status.busy": "2022-05-05T11:28:02.199486Z",
     "iopub.status.idle": "2022-05-05T11:28:02.205702Z",
     "shell.execute_reply": "2022-05-05T11:28:02.204679Z"
    },
    "papermill": {
     "duration": 0.110153,
     "end_time": "2022-05-05T11:28:02.208288",
     "exception": false,
     "start_time": "2022-05-05T11:28:02.098135",
     "status": "completed"
    },
    "tags": []
   },
   "outputs": [
    {
     "data": {
      "text/plain": [
       "'Goblin and Ninja FoR the win'"
      ]
     },
     "execution_count": 40,
     "metadata": {},
     "output_type": "execute_result"
    }
   ],
   "source": [
    "test_punc_removed"
   ]
  },
  {
   "cell_type": "code",
   "execution_count": 41,
   "id": "fbea1cd5",
   "metadata": {
    "execution": {
     "iopub.execute_input": "2022-05-05T11:28:02.422989Z",
     "iopub.status.busy": "2022-05-05T11:28:02.420962Z",
     "iopub.status.idle": "2022-05-05T11:28:02.428698Z",
     "shell.execute_reply": "2022-05-05T11:28:02.427646Z"
    },
    "papermill": {
     "duration": 0.121142,
     "end_time": "2022-05-05T11:28:02.431423",
     "exception": false,
     "start_time": "2022-05-05T11:28:02.310281",
     "status": "completed"
    },
    "tags": []
   },
   "outputs": [],
   "source": [
    "test_punc_st_removed = []\n",
    "for char in test_punc_removed.split():\n",
    "    if char.lower() not in st:\n",
    "        test_punc_st_removed.append(char)\n",
    "test_punc_st_removed = \" \".join(test_punc_st_removed)  "
   ]
  },
  {
   "cell_type": "code",
   "execution_count": 42,
   "id": "e06ca22c",
   "metadata": {
    "execution": {
     "iopub.execute_input": "2022-05-05T11:28:02.645356Z",
     "iopub.status.busy": "2022-05-05T11:28:02.643789Z",
     "iopub.status.idle": "2022-05-05T11:28:02.651519Z",
     "shell.execute_reply": "2022-05-05T11:28:02.650488Z"
    },
    "papermill": {
     "duration": 0.120478,
     "end_time": "2022-05-05T11:28:02.653785",
     "exception": false,
     "start_time": "2022-05-05T11:28:02.533307",
     "status": "completed"
    },
    "tags": []
   },
   "outputs": [
    {
     "data": {
      "text/plain": [
       "'Goblin Ninja win'"
      ]
     },
     "execution_count": 42,
     "metadata": {},
     "output_type": "execute_result"
    }
   ],
   "source": [
    "test_punc_st_removed"
   ]
  },
  {
   "cell_type": "markdown",
   "id": "06f31d0f",
   "metadata": {
    "papermill": {
     "duration": 0.105929,
     "end_time": "2022-05-05T11:28:02.865605",
     "exception": false,
     "start_time": "2022-05-05T11:28:02.759676",
     "status": "completed"
    },
    "tags": []
   },
   "source": [
    "Tokenization"
   ]
  },
  {
   "cell_type": "code",
   "execution_count": 43,
   "id": "49ea7bb5",
   "metadata": {
    "execution": {
     "iopub.execute_input": "2022-05-05T11:28:03.082532Z",
     "iopub.status.busy": "2022-05-05T11:28:03.082219Z",
     "iopub.status.idle": "2022-05-05T11:28:03.086475Z",
     "shell.execute_reply": "2022-05-05T11:28:03.085541Z"
    },
    "papermill": {
     "duration": 0.112608,
     "end_time": "2022-05-05T11:28:03.088594",
     "exception": false,
     "start_time": "2022-05-05T11:28:02.975986",
     "status": "completed"
    },
    "tags": []
   },
   "outputs": [],
   "source": [
    "from sklearn.feature_extraction.text import CountVectorizer"
   ]
  },
  {
   "cell_type": "code",
   "execution_count": 44,
   "id": "33f3c6ad",
   "metadata": {
    "execution": {
     "iopub.execute_input": "2022-05-05T11:28:03.299898Z",
     "iopub.status.busy": "2022-05-05T11:28:03.299585Z",
     "iopub.status.idle": "2022-05-05T11:28:03.304828Z",
     "shell.execute_reply": "2022-05-05T11:28:03.303277Z"
    },
    "papermill": {
     "duration": 0.110635,
     "end_time": "2022-05-05T11:28:03.307243",
     "exception": false,
     "start_time": "2022-05-05T11:28:03.196608",
     "status": "completed"
    },
    "tags": []
   },
   "outputs": [],
   "source": [
    "sample_data = [\"This is my first paper\", \"This is the second document\", \"here is the third thi one\"]"
   ]
  },
  {
   "cell_type": "code",
   "execution_count": 45,
   "id": "2a8eaeb5",
   "metadata": {
    "execution": {
     "iopub.execute_input": "2022-05-05T11:28:03.501907Z",
     "iopub.status.busy": "2022-05-05T11:28:03.501597Z",
     "iopub.status.idle": "2022-05-05T11:28:03.505599Z",
     "shell.execute_reply": "2022-05-05T11:28:03.504612Z"
    },
    "papermill": {
     "duration": 0.10235,
     "end_time": "2022-05-05T11:28:03.507596",
     "exception": false,
     "start_time": "2022-05-05T11:28:03.405246",
     "status": "completed"
    },
    "tags": []
   },
   "outputs": [],
   "source": [
    "vectorizer = CountVectorizer()"
   ]
  },
  {
   "cell_type": "code",
   "execution_count": 46,
   "id": "f7a1ad6d",
   "metadata": {
    "execution": {
     "iopub.execute_input": "2022-05-05T11:28:03.702067Z",
     "iopub.status.busy": "2022-05-05T11:28:03.701081Z",
     "iopub.status.idle": "2022-05-05T11:28:03.711883Z",
     "shell.execute_reply": "2022-05-05T11:28:03.710424Z"
    },
    "papermill": {
     "duration": 0.109992,
     "end_time": "2022-05-05T11:28:03.714330",
     "exception": false,
     "start_time": "2022-05-05T11:28:03.604338",
     "status": "completed"
    },
    "tags": []
   },
   "outputs": [],
   "source": [
    "X = vectorizer.fit_transform(sample_data)"
   ]
  },
  {
   "cell_type": "code",
   "execution_count": 47,
   "id": "0522b01b",
   "metadata": {
    "execution": {
     "iopub.execute_input": "2022-05-05T11:28:03.918589Z",
     "iopub.status.busy": "2022-05-05T11:28:03.917983Z",
     "iopub.status.idle": "2022-05-05T11:28:03.923920Z",
     "shell.execute_reply": "2022-05-05T11:28:03.923214Z"
    },
    "papermill": {
     "duration": 0.10865,
     "end_time": "2022-05-05T11:28:03.926169",
     "exception": false,
     "start_time": "2022-05-05T11:28:03.817519",
     "status": "completed"
    },
    "tags": []
   },
   "outputs": [
    {
     "data": {
      "text/plain": [
       "array(['document', 'first', 'here', 'is', 'my', 'one', 'paper', 'second',\n",
       "       'the', 'thi', 'third', 'this'], dtype=object)"
      ]
     },
     "execution_count": 47,
     "metadata": {},
     "output_type": "execute_result"
    }
   ],
   "source": [
    "vectorizer.get_feature_names_out()"
   ]
  },
  {
   "cell_type": "code",
   "execution_count": 48,
   "id": "b93a9a2e",
   "metadata": {
    "execution": {
     "iopub.execute_input": "2022-05-05T11:28:04.140147Z",
     "iopub.status.busy": "2022-05-05T11:28:04.139443Z",
     "iopub.status.idle": "2022-05-05T11:28:04.145979Z",
     "shell.execute_reply": "2022-05-05T11:28:04.145237Z"
    },
    "papermill": {
     "duration": 0.120369,
     "end_time": "2022-05-05T11:28:04.148305",
     "exception": false,
     "start_time": "2022-05-05T11:28:04.027936",
     "status": "completed"
    },
    "tags": []
   },
   "outputs": [
    {
     "data": {
      "text/plain": [
       "array([[0, 1, 0, 1, 1, 0, 1, 0, 0, 0, 0, 1],\n",
       "       [1, 0, 0, 1, 0, 0, 0, 1, 1, 0, 0, 1],\n",
       "       [0, 0, 1, 1, 0, 1, 0, 0, 1, 1, 1, 0]])"
      ]
     },
     "execution_count": 48,
     "metadata": {},
     "output_type": "execute_result"
    }
   ],
   "source": [
    "X.toarray()"
   ]
  },
  {
   "cell_type": "markdown",
   "id": "245fb6da",
   "metadata": {
    "papermill": {
     "duration": 0.100726,
     "end_time": "2022-05-05T11:28:04.352944",
     "exception": false,
     "start_time": "2022-05-05T11:28:04.252218",
     "status": "completed"
    },
    "tags": []
   },
   "source": [
    "Creating a pipeline which removes punctuation, stopwords and peforms tokenization"
   ]
  },
  {
   "cell_type": "code",
   "execution_count": 49,
   "id": "0b2567c2",
   "metadata": {
    "execution": {
     "iopub.execute_input": "2022-05-05T11:28:04.559234Z",
     "iopub.status.busy": "2022-05-05T11:28:04.558586Z",
     "iopub.status.idle": "2022-05-05T11:28:04.564993Z",
     "shell.execute_reply": "2022-05-05T11:28:04.564217Z"
    },
    "papermill": {
     "duration": 0.110538,
     "end_time": "2022-05-05T11:28:04.567563",
     "exception": false,
     "start_time": "2022-05-05T11:28:04.457025",
     "status": "completed"
    },
    "tags": []
   },
   "outputs": [],
   "source": [
    "def message_cleaning(message):\n",
    "    test_punc_removed = [char for char in message if char not in string.punctuation]\n",
    "    test_punc_removed = ''.join(test_punc_removed)\n",
    "    test_punc_st_removed = []\n",
    "    for char in test_punc_removed.split():\n",
    "        if char.lower() not in st:\n",
    "            test_punc_st_removed.append(char)\n",
    "    test_punc_st_removed = \" \".join(test_punc_st_removed)  \n",
    "    return test_punc_st_removed"
   ]
  },
  {
   "cell_type": "code",
   "execution_count": 50,
   "id": "ee8a0424",
   "metadata": {
    "execution": {
     "iopub.execute_input": "2022-05-05T11:28:04.771854Z",
     "iopub.status.busy": "2022-05-05T11:28:04.771027Z",
     "iopub.status.idle": "2022-05-05T11:28:04.777709Z",
     "shell.execute_reply": "2022-05-05T11:28:04.776896Z"
    },
    "papermill": {
     "duration": 0.111772,
     "end_time": "2022-05-05T11:28:04.780203",
     "exception": false,
     "start_time": "2022-05-05T11:28:04.668431",
     "status": "completed"
    },
    "tags": []
   },
   "outputs": [
    {
     "data": {
      "text/plain": [
       "'Goblin Ninja win'"
      ]
     },
     "execution_count": 50,
     "metadata": {},
     "output_type": "execute_result"
    }
   ],
   "source": [
    "message_cleaning(\"Goblin and Ninja fOR thE win!!\")"
   ]
  },
  {
   "cell_type": "code",
   "execution_count": 51,
   "id": "4a000ea0",
   "metadata": {
    "execution": {
     "iopub.execute_input": "2022-05-05T11:28:04.981441Z",
     "iopub.status.busy": "2022-05-05T11:28:04.980856Z",
     "iopub.status.idle": "2022-05-05T11:28:06.326283Z",
     "shell.execute_reply": "2022-05-05T11:28:06.324574Z"
    },
    "papermill": {
     "duration": 1.447763,
     "end_time": "2022-05-05T11:28:06.329019",
     "exception": false,
     "start_time": "2022-05-05T11:28:04.881256",
     "status": "completed"
    },
    "tags": []
   },
   "outputs": [],
   "source": [
    "train_data_clean = train_data['tweet'].apply(message_cleaning)"
   ]
  },
  {
   "cell_type": "code",
   "execution_count": 52,
   "id": "75219430",
   "metadata": {
    "execution": {
     "iopub.execute_input": "2022-05-05T11:28:06.535618Z",
     "iopub.status.busy": "2022-05-05T11:28:06.535252Z",
     "iopub.status.idle": "2022-05-05T11:28:06.541905Z",
     "shell.execute_reply": "2022-05-05T11:28:06.541208Z"
    },
    "papermill": {
     "duration": 0.112186,
     "end_time": "2022-05-05T11:28:06.544265",
     "exception": false,
     "start_time": "2022-05-05T11:28:06.432079",
     "status": "completed"
    },
    "tags": []
   },
   "outputs": [
    {
     "data": {
      "text/plain": [
       "'[2/2] huge fan fare and big talking before they leave. chaos and pay disputes when they get there. #allshowandnogo  '"
      ]
     },
     "execution_count": 52,
     "metadata": {},
     "output_type": "execute_result"
    }
   ],
   "source": [
    "train_data['tweet'][5]"
   ]
  },
  {
   "cell_type": "code",
   "execution_count": 53,
   "id": "00836b51",
   "metadata": {
    "execution": {
     "iopub.execute_input": "2022-05-05T11:28:06.755176Z",
     "iopub.status.busy": "2022-05-05T11:28:06.754179Z",
     "iopub.status.idle": "2022-05-05T11:28:06.761066Z",
     "shell.execute_reply": "2022-05-05T11:28:06.760178Z"
    },
    "papermill": {
     "duration": 0.115041,
     "end_time": "2022-05-05T11:28:06.763392",
     "exception": false,
     "start_time": "2022-05-05T11:28:06.648351",
     "status": "completed"
    },
    "tags": []
   },
   "outputs": [
    {
     "data": {
      "text/plain": [
       "'22 huge fan fare big talking leave chaos pay disputes get allshowandnogo'"
      ]
     },
     "execution_count": 53,
     "metadata": {},
     "output_type": "execute_result"
    }
   ],
   "source": [
    "train_data_clean[5]"
   ]
  },
  {
   "cell_type": "code",
   "execution_count": 54,
   "id": "007873f0",
   "metadata": {
    "execution": {
     "iopub.execute_input": "2022-05-05T11:28:06.967259Z",
     "iopub.status.busy": "2022-05-05T11:28:06.966923Z",
     "iopub.status.idle": "2022-05-05T11:28:06.971885Z",
     "shell.execute_reply": "2022-05-05T11:28:06.971074Z"
    },
    "papermill": {
     "duration": 0.106882,
     "end_time": "2022-05-05T11:28:06.974253",
     "exception": false,
     "start_time": "2022-05-05T11:28:06.867371",
     "status": "completed"
    },
    "tags": []
   },
   "outputs": [],
   "source": [
    "data = train_data_clean.tolist()"
   ]
  },
  {
   "cell_type": "code",
   "execution_count": 55,
   "id": "8d946ac0",
   "metadata": {
    "execution": {
     "iopub.execute_input": "2022-05-05T11:28:07.199145Z",
     "iopub.status.busy": "2022-05-05T11:28:07.198205Z",
     "iopub.status.idle": "2022-05-05T11:28:08.947717Z",
     "shell.execute_reply": "2022-05-05T11:28:08.946339Z"
    },
    "papermill": {
     "duration": 1.866264,
     "end_time": "2022-05-05T11:28:08.950565",
     "exception": false,
     "start_time": "2022-05-05T11:28:07.084301",
     "status": "completed"
    },
    "tags": []
   },
   "outputs": [],
   "source": [
    "tweets_countvectorizer = CountVectorizer().fit_transform(data).toarray()"
   ]
  },
  {
   "cell_type": "code",
   "execution_count": 56,
   "id": "98927b30",
   "metadata": {
    "execution": {
     "iopub.execute_input": "2022-05-05T11:28:09.177001Z",
     "iopub.status.busy": "2022-05-05T11:28:09.176679Z",
     "iopub.status.idle": "2022-05-05T11:28:09.183451Z",
     "shell.execute_reply": "2022-05-05T11:28:09.182239Z"
    },
    "papermill": {
     "duration": 0.127849,
     "end_time": "2022-05-05T11:28:09.186636",
     "exception": false,
     "start_time": "2022-05-05T11:28:09.058787",
     "status": "completed"
    },
    "tags": []
   },
   "outputs": [
    {
     "data": {
      "text/plain": [
       "(31962, 43671)"
      ]
     },
     "execution_count": 56,
     "metadata": {},
     "output_type": "execute_result"
    }
   ],
   "source": [
    "tweets_countvectorizer.shape"
   ]
  },
  {
   "cell_type": "code",
   "execution_count": 57,
   "id": "f162ab43",
   "metadata": {
    "execution": {
     "iopub.execute_input": "2022-05-05T11:28:09.403168Z",
     "iopub.status.busy": "2022-05-05T11:28:09.402437Z",
     "iopub.status.idle": "2022-05-05T11:28:09.407833Z",
     "shell.execute_reply": "2022-05-05T11:28:09.406855Z"
    },
    "papermill": {
     "duration": 0.117395,
     "end_time": "2022-05-05T11:28:09.409970",
     "exception": false,
     "start_time": "2022-05-05T11:28:09.292575",
     "status": "completed"
    },
    "tags": []
   },
   "outputs": [],
   "source": [
    "X = tweets_countvectorizer\n",
    "y = train_data['label']"
   ]
  },
  {
   "cell_type": "markdown",
   "id": "72873a38",
   "metadata": {
    "papermill": {
     "duration": 0.106673,
     "end_time": "2022-05-05T11:28:09.621713",
     "exception": false,
     "start_time": "2022-05-05T11:28:09.515040",
     "status": "completed"
    },
    "tags": []
   },
   "source": [
    "Using Naive Bayes to classify"
   ]
  },
  {
   "cell_type": "code",
   "execution_count": 58,
   "id": "1d3b2a3e",
   "metadata": {
    "execution": {
     "iopub.execute_input": "2022-05-05T11:28:09.830523Z",
     "iopub.status.busy": "2022-05-05T11:28:09.830173Z",
     "iopub.status.idle": "2022-05-05T11:28:09.836800Z",
     "shell.execute_reply": "2022-05-05T11:28:09.835977Z"
    },
    "papermill": {
     "duration": 0.114096,
     "end_time": "2022-05-05T11:28:09.840159",
     "exception": false,
     "start_time": "2022-05-05T11:28:09.726063",
     "status": "completed"
    },
    "tags": []
   },
   "outputs": [
    {
     "data": {
      "text/plain": [
       "(31962, 43671)"
      ]
     },
     "execution_count": 58,
     "metadata": {},
     "output_type": "execute_result"
    }
   ],
   "source": [
    "X.shape"
   ]
  },
  {
   "cell_type": "code",
   "execution_count": 59,
   "id": "6c2183b7",
   "metadata": {
    "execution": {
     "iopub.execute_input": "2022-05-05T11:28:10.048960Z",
     "iopub.status.busy": "2022-05-05T11:28:10.048361Z",
     "iopub.status.idle": "2022-05-05T11:28:10.054692Z",
     "shell.execute_reply": "2022-05-05T11:28:10.053855Z"
    },
    "papermill": {
     "duration": 0.112503,
     "end_time": "2022-05-05T11:28:10.057005",
     "exception": false,
     "start_time": "2022-05-05T11:28:09.944502",
     "status": "completed"
    },
    "tags": []
   },
   "outputs": [
    {
     "data": {
      "text/plain": [
       "(31962,)"
      ]
     },
     "execution_count": 59,
     "metadata": {},
     "output_type": "execute_result"
    }
   ],
   "source": [
    "y.shape"
   ]
  },
  {
   "cell_type": "code",
   "execution_count": 60,
   "id": "408fd3c2",
   "metadata": {
    "execution": {
     "iopub.execute_input": "2022-05-05T11:28:10.289048Z",
     "iopub.status.busy": "2022-05-05T11:28:10.288213Z",
     "iopub.status.idle": "2022-05-05T11:28:10.292859Z",
     "shell.execute_reply": "2022-05-05T11:28:10.292051Z"
    },
    "papermill": {
     "duration": 0.134169,
     "end_time": "2022-05-05T11:28:10.297146",
     "exception": false,
     "start_time": "2022-05-05T11:28:10.162977",
     "status": "completed"
    },
    "tags": []
   },
   "outputs": [],
   "source": [
    "from sklearn.model_selection import train_test_split"
   ]
  },
  {
   "cell_type": "code",
   "execution_count": 61,
   "id": "a44c4332",
   "metadata": {
    "execution": {
     "iopub.execute_input": "2022-05-05T11:28:10.526901Z",
     "iopub.status.busy": "2022-05-05T11:28:10.526304Z",
     "iopub.status.idle": "2022-05-05T11:28:21.690368Z",
     "shell.execute_reply": "2022-05-05T11:28:21.689351Z"
    },
    "papermill": {
     "duration": 11.269036,
     "end_time": "2022-05-05T11:28:21.693046",
     "exception": false,
     "start_time": "2022-05-05T11:28:10.424010",
     "status": "completed"
    },
    "tags": []
   },
   "outputs": [],
   "source": [
    "X_train, X_test, y_train, y_test = train_test_split(X, y, test_size = 0.2)"
   ]
  },
  {
   "cell_type": "code",
   "execution_count": 62,
   "id": "6435d103",
   "metadata": {
    "execution": {
     "iopub.execute_input": "2022-05-05T11:28:21.909461Z",
     "iopub.status.busy": "2022-05-05T11:28:21.908755Z",
     "iopub.status.idle": "2022-05-05T11:28:21.917189Z",
     "shell.execute_reply": "2022-05-05T11:28:21.916350Z"
    },
    "papermill": {
     "duration": 0.117432,
     "end_time": "2022-05-05T11:28:21.920991",
     "exception": false,
     "start_time": "2022-05-05T11:28:21.803559",
     "status": "completed"
    },
    "tags": []
   },
   "outputs": [],
   "source": [
    "from sklearn.naive_bayes import MultinomialNB #for discrete values"
   ]
  },
  {
   "cell_type": "code",
   "execution_count": 63,
   "id": "c6bde99f",
   "metadata": {
    "execution": {
     "iopub.execute_input": "2022-05-05T11:28:22.140960Z",
     "iopub.status.busy": "2022-05-05T11:28:22.139879Z",
     "iopub.status.idle": "2022-05-05T11:28:22.145019Z",
     "shell.execute_reply": "2022-05-05T11:28:22.144119Z"
    },
    "papermill": {
     "duration": 0.119728,
     "end_time": "2022-05-05T11:28:22.147935",
     "exception": false,
     "start_time": "2022-05-05T11:28:22.028207",
     "status": "completed"
    },
    "tags": []
   },
   "outputs": [],
   "source": [
    "NB_classifier = MultinomialNB()"
   ]
  },
  {
   "cell_type": "code",
   "execution_count": 64,
   "id": "3503937f",
   "metadata": {
    "execution": {
     "iopub.execute_input": "2022-05-05T11:28:22.363134Z",
     "iopub.status.busy": "2022-05-05T11:28:22.362743Z",
     "iopub.status.idle": "2022-05-05T11:28:50.306075Z",
     "shell.execute_reply": "2022-05-05T11:28:50.304071Z"
    },
    "papermill": {
     "duration": 28.052933,
     "end_time": "2022-05-05T11:28:50.309369",
     "exception": false,
     "start_time": "2022-05-05T11:28:22.256436",
     "status": "completed"
    },
    "tags": []
   },
   "outputs": [
    {
     "data": {
      "text/plain": [
       "MultinomialNB()"
      ]
     },
     "execution_count": 64,
     "metadata": {},
     "output_type": "execute_result"
    }
   ],
   "source": [
    "NB_classifier.fit(X_train, y_train)"
   ]
  },
  {
   "cell_type": "code",
   "execution_count": 65,
   "id": "b0e4ac1b",
   "metadata": {
    "execution": {
     "iopub.execute_input": "2022-05-05T11:28:50.531941Z",
     "iopub.status.busy": "2022-05-05T11:28:50.531180Z",
     "iopub.status.idle": "2022-05-05T11:28:53.654726Z",
     "shell.execute_reply": "2022-05-05T11:28:53.653418Z"
    },
    "papermill": {
     "duration": 3.237019,
     "end_time": "2022-05-05T11:28:53.658965",
     "exception": false,
     "start_time": "2022-05-05T11:28:50.421946",
     "status": "completed"
    },
    "tags": []
   },
   "outputs": [],
   "source": [
    "y_pred = NB_classifier.predict(X_test)"
   ]
  },
  {
   "cell_type": "code",
   "execution_count": 66,
   "id": "d4b118d5",
   "metadata": {
    "execution": {
     "iopub.execute_input": "2022-05-05T11:28:53.889025Z",
     "iopub.status.busy": "2022-05-05T11:28:53.888632Z",
     "iopub.status.idle": "2022-05-05T11:28:53.894276Z",
     "shell.execute_reply": "2022-05-05T11:28:53.893288Z"
    },
    "papermill": {
     "duration": 0.130454,
     "end_time": "2022-05-05T11:28:53.897668",
     "exception": false,
     "start_time": "2022-05-05T11:28:53.767214",
     "status": "completed"
    },
    "tags": []
   },
   "outputs": [],
   "source": [
    "from sklearn.metrics import confusion_matrix, classification_report, accuracy_score"
   ]
  },
  {
   "cell_type": "code",
   "execution_count": 67,
   "id": "4fd5d4bd",
   "metadata": {
    "execution": {
     "iopub.execute_input": "2022-05-05T11:28:54.143205Z",
     "iopub.status.busy": "2022-05-05T11:28:54.142244Z",
     "iopub.status.idle": "2022-05-05T11:28:54.154391Z",
     "shell.execute_reply": "2022-05-05T11:28:54.152706Z"
    },
    "papermill": {
     "duration": 0.140719,
     "end_time": "2022-05-05T11:28:54.157907",
     "exception": false,
     "start_time": "2022-05-05T11:28:54.017188",
     "status": "completed"
    },
    "tags": []
   },
   "outputs": [
    {
     "data": {
      "text/plain": [
       "array([[5792,  162],\n",
       "       [ 195,  244]])"
      ]
     },
     "execution_count": 67,
     "metadata": {},
     "output_type": "execute_result"
    }
   ],
   "source": [
    "cm = confusion_matrix(y_test, y_pred)\n",
    "cm"
   ]
  },
  {
   "cell_type": "code",
   "execution_count": 68,
   "id": "07414e84",
   "metadata": {
    "execution": {
     "iopub.execute_input": "2022-05-05T11:28:54.434324Z",
     "iopub.status.busy": "2022-05-05T11:28:54.433872Z",
     "iopub.status.idle": "2022-05-05T11:28:54.816334Z",
     "shell.execute_reply": "2022-05-05T11:28:54.814318Z"
    },
    "papermill": {
     "duration": 0.526237,
     "end_time": "2022-05-05T11:28:54.819749",
     "exception": false,
     "start_time": "2022-05-05T11:28:54.293512",
     "status": "completed"
    },
    "tags": []
   },
   "outputs": [
    {
     "data": {
      "text/plain": [
       "<AxesSubplot:>"
      ]
     },
     "execution_count": 68,
     "metadata": {},
     "output_type": "execute_result"
    },
    {
     "data": {
      "image/png": "[encoded data removed]",
      "text/plain": [
       "<Figure size 432x288 with 2 Axes>"
      ]
     },
     "metadata": {
      "needs_background": "light"
     },
     "output_type": "display_data"
    }
   ],
   "source": [
    "sns.heatmap(cm, annot = True)"
   ]
  },
  {
   "cell_type": "code",
   "execution_count": 69,
   "id": "bf30ed58",
   "metadata": {
    "execution": {
     "iopub.execute_input": "2022-05-05T11:28:55.067339Z",
     "iopub.status.busy": "2022-05-05T11:28:55.066762Z",
     "iopub.status.idle": "2022-05-05T11:28:55.079537Z",
     "shell.execute_reply": "2022-05-05T11:28:55.077589Z"
    },
    "papermill": {
     "duration": 0.141916,
     "end_time": "2022-05-05T11:28:55.082972",
     "exception": false,
     "start_time": "2022-05-05T11:28:54.941056",
     "status": "completed"
    },
    "tags": []
   },
   "outputs": [
    {
     "data": {
      "text/plain": [
       "0.9441576724542469"
      ]
     },
     "execution_count": 69,
     "metadata": {},
     "output_type": "execute_result"
    }
   ],
   "source": [
    "ac = accuracy_score(y_test, y_pred)\n",
    "ac"
   ]
  },
  {
   "cell_type": "code",
   "execution_count": 70,
   "id": "065aed1c",
   "metadata": {
    "execution": {
     "iopub.execute_input": "2022-05-05T11:28:55.341430Z",
     "iopub.status.busy": "2022-05-05T11:28:55.340743Z",
     "iopub.status.idle": "2022-05-05T11:28:55.368014Z",
     "shell.execute_reply": "2022-05-05T11:28:55.365172Z"
    },
    "papermill": {
     "duration": 0.168099,
     "end_time": "2022-05-05T11:28:55.373372",
     "exception": false,
     "start_time": "2022-05-05T11:28:55.205273",
     "status": "completed"
    },
    "tags": []
   },
   "outputs": [
    {
     "name": "stdout",
     "output_type": "stream",
     "text": [
      "              precision    recall  f1-score   support\n",
      "\n",
      "           0       0.97      0.97      0.97      5954\n",
      "           1       0.60      0.56      0.58       439\n",
      "\n",
      "    accuracy                           0.94      6393\n",
      "   macro avg       0.78      0.76      0.77      6393\n",
      "weighted avg       0.94      0.94      0.94      6393\n",
      "\n"
     ]
    }
   ],
   "source": [
    "print(classification_report(y_test, y_pred))"
   ]
  }
 ],
 "metadata": {
  "kernelspec": {
   "display_name": "Python 3",
   "language": "python",
   "name": "python3"
  },
  "language_info": {
   "codemirror_mode": {
    "name": "ipython",
    "version": 3
   },
   "file_extension": ".py",
   "mimetype": "text/x-python",
   "name": "python",
   "nbconvert_exporter": "python",
   "pygments_lexer": "ipython3",
   "version": "3.7.12"
  },
  "papermill": {
   "default_parameters": {},
   "duration": 88.449325,
   "end_time": "2022-05-05T11:28:57.134478",
   "environment_variables": {},
   "exception": null,
   "input_path": "__notebook__.ipynb",
   "output_path": "__notebook__.ipynb",
   "parameters": {},
   "start_time": "2022-05-05T11:27:28.685153",
   "version": "2.3.4"
  }
 },
 "nbformat": 4,
 "nbformat_minor": 5
}
